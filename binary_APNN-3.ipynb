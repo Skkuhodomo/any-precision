{
  "nbformat": 4,
  "nbformat_minor": 0,
  "metadata": {
    "colab": {
      "provenance": [],
      "gpuType": "T4"
    },
    "kernelspec": {
      "name": "python3",
      "display_name": "Python 3"
    },
    "language_info": {
      "name": "python"
    },
    "accelerator": "GPU"
  },
  "cells": [
    {
      "cell_type": "code",
      "source": [
        "import torch\n",
        "import torch.nn as nn\n",
        "import torch.nn.functional as F\n",
        "from sklearn.datasets import make_classification\n",
        "from sklearn.model_selection import train_test_split\n",
        "from sklearn.preprocessing import StandardScaler\n",
        "import time\n"
      ],
      "metadata": {
        "id": "CA5k3YJxf5vp"
      },
      "execution_count": 156,
      "outputs": []
    },
    {
      "cell_type": "code",
      "source": [
        "class QuantizationLayer(nn.Module):\n",
        "    def __init__(self, bit_precisions):\n",
        "        super(QuantizationLayer, self).__init__()\n",
        "        self.bit_precisions = bit_precisions\n",
        "\n",
        "    def forward(self, weights, bit_precision):\n",
        "        if bit_precision not in self.bit_precisions:\n",
        "            raise ValueError(f\"Unsupported bit precision: {bit_precision}\")\n",
        "\n",
        "        # MAX_N for N-bit quantization\n",
        "        max_n = 2 ** bit_precision - 1\n",
        "\n",
        "        # Normalize weights using tanh and map to [0, 1]\n",
        "        normalized_weights = (torch.tanh(weights) / (2 * torch.max(torch.abs(torch.tanh(weights))))) + 0.5\n",
        "\n",
        "        # Quantize to N-bit fixed-point\n",
        "        quantized_weights = torch.round(normalized_weights * max_n)\n",
        "\n",
        "        # Re-map to approximate original weight range\n",
        "        weights_quantized = 2 * quantized_weights / max_n - 1\n",
        "\n",
        "        return weights_quantized\n",
        "\n"
      ],
      "metadata": {
        "id": "BmW1MG8fgAxD"
      },
      "execution_count": 157,
      "outputs": []
    },
    {
      "cell_type": "code",
      "source": [
        "bit_precisions = [4, 8, 16, 32]\n",
        "class APNN(nn.Module):\n",
        "    def __init__(self, input_dim, hidden_dim, output_dim, bit_precisions=bit_precisions):\n",
        "        super(APNN, self).__init__()\n",
        "        self.fc1 = nn.Linear(input_dim, hidden_dim)\n",
        "        self.fc2 = nn.Linear(hidden_dim, output_dim)\n",
        "        self.quant_layer = QuantizationLayer(bit_precisions)\n",
        "        self.bit_precisions = bit_precisions\n",
        "\n",
        "        # Separate BatchNorm layers for each precision\n",
        "        self.batchnorms = nn.ModuleDict({\n",
        "            f\"bn_{bit}\": nn.BatchNorm1d(hidden_dim) for bit in bit_precisions\n",
        "        })\n",
        "\n",
        "    def forward(self, x, bit_precision):\n",
        "        if bit_precision not in self.bit_precisions:\n",
        "            raise ValueError(f\"Unsupported bit precision: {bit_precision}\")\n",
        "\n",
        "        # Apply first layer\n",
        "        x = F.relu(self.fc1(x))\n",
        "\n",
        "        # Apply corresponding BatchNorm layer\n",
        "        bn_layer = self.batchnorms[f\"bn_{bit_precision}\"]\n",
        "        x = bn_layer(x)\n",
        "\n",
        "        # Quantize the output\n",
        "        x = self.quant_layer(x, bit_precision)\n",
        "\n",
        "        # Apply second layer and output\n",
        "        x = torch.sigmoid(self.fc2(x))\n",
        "        return x\n",
        "\n"
      ],
      "metadata": {
        "id": "SSuJsKeJgBvv"
      },
      "execution_count": 158,
      "outputs": []
    },
    {
      "cell_type": "code",
      "source": [
        "\n",
        "\n",
        "# Prepare data\n",
        "def prepare_data():\n",
        "    X, y = make_classification(n_samples=20000, n_features=32, n_classes=2, random_state=42)\n",
        "    X_train, X_test, y_train, y_test = train_test_split(X, y, test_size=0.4, random_state=42)\n",
        "\n",
        "    scaler = StandardScaler()\n",
        "    X_train = scaler.fit_transform(X_train)\n",
        "    X_test = scaler.transform(X_test)\n",
        "\n",
        "    X_train = torch.tensor(X_train, dtype=torch.float32)\n",
        "    X_test = torch.tensor(X_test, dtype=torch.float32)\n",
        "    y_train = torch.tensor(y_train, dtype=torch.float32).unsqueeze(1)\n",
        "    y_test = torch.tensor(y_test, dtype=torch.float32).unsqueeze(1)\n",
        "\n",
        "    return X_train, X_test, y_train, y_test\n"
      ],
      "metadata": {
        "id": "HFWjzLjxgCdo"
      },
      "execution_count": 159,
      "outputs": []
    },
    {
      "cell_type": "code",
      "source": [
        "\n",
        "\n",
        "# Loss Function with Distillation\n",
        "def compute_loss(outputs, labels, teacher_outputs, lambda_distill=0.5):\n",
        "    task_loss = F.binary_cross_entropy(outputs, labels)\n",
        "    distill_loss = F.mse_loss(outputs, teacher_outputs)\n",
        "    return task_loss + lambda_distill * distill_loss\n"
      ],
      "metadata": {
        "id": "O0y_XiEBgDUY"
      },
      "execution_count": 160,
      "outputs": []
    },
    {
      "cell_type": "code",
      "source": [
        "\n",
        "# Train function updated with BatchNorm replacement\n",
        "def train_apnn_with_batchnorm(model, X_train, y_train, epochs=50, lr=0.01, lambda_distill=0.5):\n",
        "    optimizer = torch.optim.Adam(model.parameters(), lr=lr)\n",
        "    bit_precisions = model.bit_precisions\n",
        "    teacher_precision = max(bit_precisions)\n",
        "    student_precisions = bit_precisions[:-1]\n",
        "\n",
        "    for epoch in range(epochs):\n",
        "        model.train()\n",
        "        optimizer.zero_grad()\n",
        "\n",
        "        # Sample a batch of data\n",
        "        teacher_outputs = model(X_train, teacher_precision)\n",
        "\n",
        "        total_loss = 0\n",
        "        for precision in student_precisions:\n",
        "            # Replace BatchNorm for the given precision\n",
        "            student_outputs = model(X_train, precision)\n",
        "\n",
        "            # Compute loss\n",
        "            loss = compute_loss(student_outputs, y_train, teacher_outputs, lambda_distill)\n",
        "            total_loss += loss\n",
        "\n",
        "        total_loss.backward()\n",
        "        optimizer.step()\n",
        "\n",
        "        if epoch % 5 == 0:\n",
        "            print(f\"Epoch {epoch + 1}/{epochs}, Loss: {total_loss.item():.4f}\")\n"
      ],
      "metadata": {
        "id": "w5p8tPt9gD8H"
      },
      "execution_count": 161,
      "outputs": []
    },
    {
      "cell_type": "code",
      "source": [
        "\n",
        "\n",
        "# Evaluate the APNN Model\n",
        "def evaluate_apnn(model, X_test, y_test, bit_precision):\n",
        "    model.eval()\n",
        "    with torch.no_grad():\n",
        "        test_outputs = model(X_test, bit_precision)\n",
        "        test_accuracy = ((test_outputs > 0.5) == y_test).float().mean().item()\n",
        "    return test_accuracy\n",
        "\n"
      ],
      "metadata": {
        "id": "cYib3V82gEil"
      },
      "execution_count": 162,
      "outputs": []
    },
    {
      "cell_type": "code",
      "source": [
        "\n",
        "# Main Execution\n",
        "input_dim = 32\n",
        "hidden_dim = 64\n",
        "output_dim = 1\n",
        "bit_precisions = [4, 8, 16, 32]\n",
        "\n",
        "X_train, X_test, y_train, y_test = prepare_data()\n"
      ],
      "metadata": {
        "id": "D_VGgRMMgFFv"
      },
      "execution_count": 163,
      "outputs": []
    },
    {
      "cell_type": "code",
      "source": [
        "\n",
        "# Initialize APNN Model\n",
        "apnn_model = APNN(input_dim, hidden_dim, output_dim, bit_precisions)\n"
      ],
      "metadata": {
        "id": "I3XZ_xFggFvZ"
      },
      "execution_count": 164,
      "outputs": []
    },
    {
      "cell_type": "code",
      "source": [
        "\n",
        "# Train APNN\n",
        "train_apnn_with_batchnorm(apnn_model, X_train, y_train, epochs=100, lr=0.01, lambda_distill=0.5)\n"
      ],
      "metadata": {
        "colab": {
          "base_uri": "https://localhost:8080/"
        },
        "id": "Ql6sARitgGVt",
        "outputId": "e7d95e35-42a5-4909-de3e-c638f8faca59"
      },
      "execution_count": 165,
      "outputs": [
        {
          "output_type": "stream",
          "name": "stdout",
          "text": [
            "Epoch 1/100, Loss: 2.0041\n",
            "Epoch 6/100, Loss: 1.6936\n",
            "Epoch 11/100, Loss: 1.5443\n",
            "Epoch 16/100, Loss: 1.4638\n",
            "Epoch 21/100, Loss: 1.4086\n",
            "Epoch 26/100, Loss: 1.3679\n",
            "Epoch 31/100, Loss: 1.3381\n",
            "Epoch 36/100, Loss: 1.3158\n",
            "Epoch 41/100, Loss: 1.2985\n",
            "Epoch 46/100, Loss: 1.2852\n",
            "Epoch 51/100, Loss: 1.2750\n",
            "Epoch 56/100, Loss: 1.2670\n",
            "Epoch 61/100, Loss: 1.2605\n",
            "Epoch 66/100, Loss: 1.2552\n",
            "Epoch 71/100, Loss: 1.2509\n",
            "Epoch 76/100, Loss: 1.2474\n",
            "Epoch 81/100, Loss: 1.2444\n",
            "Epoch 86/100, Loss: 1.2418\n",
            "Epoch 91/100, Loss: 1.2396\n",
            "Epoch 96/100, Loss: 1.2378\n"
          ]
        }
      ]
    },
    {
      "cell_type": "code",
      "source": [
        "# Evaluate APNN at Different Bit Precisions\n",
        "for bit_precision in bit_precisions:\n",
        "    accuracy = evaluate_apnn(apnn_model, X_test, y_test, bit_precision)\n",
        "    print(f\"Bit Precision: {bit_precision}, Test Accuracy: {accuracy:.4f}\")\n",
        ""
      ],
      "metadata": {
        "colab": {
          "base_uri": "https://localhost:8080/"
        },
        "id": "kmttsCJzgG_A",
        "outputId": "ddcb3cf4-8831-4f94-a106-54e4dfe84a66"
      },
      "execution_count": 166,
      "outputs": [
        {
          "output_type": "stream",
          "name": "stdout",
          "text": [
            "Bit Precision: 4, Test Accuracy: 0.8238\n",
            "Bit Precision: 8, Test Accuracy: 0.8259\n",
            "Bit Precision: 16, Test Accuracy: 0.8259\n",
            "Bit Precision: 32, Test Accuracy: 0.8259\n"
          ]
        }
      ]
    },
    {
      "cell_type": "code",
      "source": [
        "import torch\n",
        "import matplotlib.pyplot as plt\n",
        "import time\n",
        "\n",
        "# Measure inference time for each bit precision\n",
        "def measure_inference_time(model, X_test, bit_precision, device='cuda'):\n",
        "    model.to(device)\n",
        "    X_test_cuda = X_test.to(device)\n",
        "\n",
        "    # Warm-up for stable measurements\n",
        "    for _ in range(10):\n",
        "        with torch.no_grad():\n",
        "            model(X_test_cuda, bit_precision)\n",
        "\n",
        "    # Measure inference time\n",
        "    torch.cuda.synchronize() if device == 'cuda' else None\n",
        "    start_time = time.time()\n",
        "\n",
        "    with torch.no_grad():\n",
        "        outputs = model(X_test_cuda, bit_precision)\n",
        "\n",
        "    torch.cuda.synchronize() if device == 'cuda' else None\n",
        "    end_time = time.time()\n",
        "\n",
        "    # Return inference time\n",
        "    inference_time = end_time - start_time\n",
        "    return inference_time\n",
        "\n",
        "# Define bit precisions\n",
        "bit_precisions = [32, 16, 8, 4]\n",
        "\n",
        "# Measure inference times\n",
        "inference_times = []\n",
        "for bit_precision in bit_precisions:\n",
        "    print(f\"Measuring inference time for bit precision: {bit_precision}\")\n",
        "    inference_time = measure_inference_time(apnn_model, X_test, bit_precision, device='cuda')\n",
        "    inference_times.append(inference_time)\n",
        "    print(f\"Bit Precision: {bit_precision}, Inference Time: {inference_time:.6f} seconds\")\n",
        "\n"
      ],
      "metadata": {
        "colab": {
          "base_uri": "https://localhost:8080/"
        },
        "id": "H30wers-vKdu",
        "outputId": "e73eaba3-d16a-47b8-994b-97f5aeb6279d"
      },
      "execution_count": 167,
      "outputs": [
        {
          "output_type": "stream",
          "name": "stdout",
          "text": [
            "Measuring inference time for bit precision: 32\n",
            "Bit Precision: 32, Inference Time: 0.000500 seconds\n",
            "Measuring inference time for bit precision: 16\n",
            "Bit Precision: 16, Inference Time: 0.000423 seconds\n",
            "Measuring inference time for bit precision: 8\n",
            "Bit Precision: 8, Inference Time: 0.000465 seconds\n",
            "Measuring inference time for bit precision: 4\n",
            "Bit Precision: 4, Inference Time: 0.000432 seconds\n"
          ]
        }
      ]
    },
    {
      "cell_type": "code",
      "source": [
        "import matplotlib.pyplot as plt\n",
        "import numpy as np\n",
        "\n",
        "# Define bit precisions\n",
        "bit_precisions = [32, 16, 8, 4]\n",
        "\n",
        "# Initialize lists to store results\n",
        "accuracies = []\n",
        "inference_times = []\n",
        "\n",
        "# Measure accuracy and inference time for each bit precision\n",
        "for bit_precision in bit_precisions:\n",
        "    # Ensure both X_test and y_test are on the same device\n",
        "    X_test = X_test.to('cuda')\n",
        "    y_test = y_test.to('cuda')  # Move y_test to GPU\n",
        "\n",
        "    # Measure accuracy\n",
        "    accuracy = evaluate_apnn(apnn_model, X_test, y_test, bit_precision)\n",
        "    accuracies.append(accuracy)\n",
        "\n",
        "    # Measure inference time\n",
        "    inference_time = measure_inference_time(apnn_model, X_test, bit_precision, device='cuda')\n",
        "    inference_times.append(inference_time)\n",
        "\n",
        "    # Print results\n",
        "    print(f\"Bit Precision: {bit_precision}, Accuracy: {accuracy:.4f}, Inference Time: {inference_time:.6f} seconds\")\n",
        "\n",
        "# Create evenly spaced x positions\n",
        "x_positions = np.arange(len(bit_precisions))\n",
        "\n",
        "# Create subplots\n",
        "fig, (ax1, ax2) = plt.subplots(1, 2, figsize=(14, 6))  # Two subplots side by side\n",
        "\n",
        "# Plot Accuracy\n",
        "ax1.bar(x_positions, accuracies, color='skyblue', width=0.6)\n",
        "ax1.set_title(\"Accuracy vs Bit Precision\", fontsize=16)\n",
        "ax1.set_xlabel(\"Bit Precision\", fontsize=14)\n",
        "ax1.set_ylabel(\"Accuracy\", fontsize=14)\n",
        "ax1.set_xticks(x_positions)\n",
        "ax1.set_xticklabels(bit_precisions, fontsize=12)\n",
        "ax1.set_ylim(0, 1.1)  # Assuming accuracy ranges between 0 and 1.1\n",
        "ax1.grid(axis='y', linestyle='--', alpha=0.7)\n",
        "\n",
        "# Plot Inference Time\n",
        "ax2.bar(x_positions, inference_times, color='orange', width=0.6)\n",
        "ax2.set_title(\"Inference Time vs Bit Precision\", fontsize=16)\n",
        "ax2.set_xlabel(\"Bit Precision\", fontsize=14)\n",
        "ax2.set_ylabel(\"Inference Time (seconds)\", fontsize=14)\n",
        "ax2.set_xticks(x_positions)\n",
        "ax2.set_xticklabels(bit_precisions, fontsize=12)\n",
        "ax2.grid(axis='y', linestyle='--', alpha=0.7)\n",
        "\n",
        "# Adjust layout\n",
        "plt.tight_layout()\n",
        "plt.show()\n"
      ],
      "metadata": {
        "colab": {
          "base_uri": "https://localhost:8080/",
          "height": 494
        },
        "id": "jRsAvJQH8iOm",
        "outputId": "86ed027b-d448-4b09-a20a-fb2876886d1a"
      },
      "execution_count": 184,
      "outputs": [
        {
          "output_type": "stream",
          "name": "stdout",
          "text": [
            "Bit Precision: 32, Accuracy: 0.8259, Inference Time: 0.000445 seconds\n",
            "Bit Precision: 16, Accuracy: 0.8259, Inference Time: 0.000435 seconds\n",
            "Bit Precision: 8, Accuracy: 0.8259, Inference Time: 0.000432 seconds\n",
            "Bit Precision: 4, Accuracy: 0.8238, Inference Time: 0.000413 seconds\n"
          ]
        },
        {
          "output_type": "display_data",
          "data": {
            "text/plain": [
              "<Figure size 1400x600 with 2 Axes>"
            ],
            "image/png": "[encoded data removed]"
          },
          "metadata": {}
        }
      ]
    }
  ]
}